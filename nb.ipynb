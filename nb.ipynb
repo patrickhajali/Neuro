{
 "cells": [
  {
   "cell_type": "code",
   "execution_count": 2,
   "metadata": {},
   "outputs": [
    {
     "data": {
      "text/plain": [
       "<contextlib.ExitStack at 0x112a64670>"
      ]
     },
     "execution_count": 2,
     "metadata": {},
     "output_type": "execute_result"
    }
   ],
   "source": [
    "%load_ext autoreload\n",
    "%autoreload 2\n",
    "\n",
    "import os \n",
    "import matplotlib\n",
    "from ipywidgets import interactive, widgets\n",
    "import plotly.graph_objects as go\n",
    "from src.utils import *\n",
    "from src.session import * \n",
    "from src.signal_processing import *\n",
    "from scipy import signal\n",
    "import numpy as np\n",
    "import matplotlib.pyplot as plt\n",
    "plt.rcParams['figure.dpi']= 100\n",
    "\n",
    "%matplotlib qt5\n",
    "plt.ion()"
   ]
  },
  {
   "cell_type": "markdown",
   "metadata": {},
   "source": [
    "### Load data"
   ]
  },
  {
   "cell_type": "code",
   "execution_count": 3,
   "metadata": {},
   "outputs": [],
   "source": [
    "dir = 'path/to/data/'\n",
    "channel_layout_dir = 'channel_layout.json'\n",
    "\n",
    "session = LFPSession(dir, channel_layout_dir=channel_layout_dir)"
   ]
  },
  {
   "cell_type": "markdown",
   "metadata": {},
   "source": [
    "#### Select start and end time"
   ]
  },
  {
   "cell_type": "code",
   "execution_count": 59,
   "metadata": {},
   "outputs": [],
   "source": [
    "start_time, end_time = 200, 500 # in seconds\n",
    "# int(start_time * session.fs),int(end_time * session.fs)\n",
    "data = session.load_data(int(start_time * session.fs),int(end_time * session.fs))"
   ]
  },
  {
   "cell_type": "markdown",
   "metadata": {},
   "source": [
    "#### Select channels"
   ]
  },
  {
   "cell_type": "code",
   "execution_count": 60,
   "metadata": {},
   "outputs": [],
   "source": [
    "chs = session.get_channels('left', min_depth = 14, max_depth=15) # 0-indexed\n",
    "data.set_channels(chs)"
   ]
  },
  {
   "cell_type": "markdown",
   "metadata": {},
   "source": [
    "#### Plot waveforms (probably better to preprocess first though)"
   ]
  },
  {
   "cell_type": "code",
   "execution_count": 61,
   "metadata": {},
   "outputs": [],
   "source": [
    "plot_waveforms(data,session)"
   ]
  },
  {
   "cell_type": "markdown",
   "metadata": {},
   "source": [
    "### Preprocess"
   ]
  },
  {
   "cell_type": "code",
   "execution_count": 67,
   "metadata": {},
   "outputs": [],
   "source": [
    "ds_factor = 50\n",
    "raw_samples = data.samples\n",
    "preprocessed_samples = preprocess(raw_samples, fs = session.fs, ds=ds_factor, low_pass_cutoff=250, filter_order=5)\n",
    "fs_new = session.fs/ds_factor"
   ]
  },
  {
   "cell_type": "code",
   "execution_count": 11,
   "metadata": {},
   "outputs": [],
   "source": [
    "plot_waveforms(data,session,samples=preprocessed_samples)"
   ]
  },
  {
   "cell_type": "markdown",
   "metadata": {},
   "source": [
    "### Select a channel for further analysis"
   ]
  },
  {
   "cell_type": "code",
   "execution_count": 74,
   "metadata": {},
   "outputs": [],
   "source": [
    "selected_samples = preprocessed_samples[:,0]"
   ]
  },
  {
   "cell_type": "markdown",
   "metadata": {},
   "source": [
    "### Analysis"
   ]
  },
  {
   "cell_type": "markdown",
   "metadata": {},
   "source": [
    "#### Frequency spectra"
   ]
  },
  {
   "cell_type": "code",
   "execution_count": 12,
   "metadata": {},
   "outputs": [],
   "source": [
    "bins, fft = get_fft(selected_samples, fs_new, norm=True)\n",
    "plot_psd(bins, fft,num_samples=selected_samples.shape[0], xleft=0, xright=100)"
   ]
  },
  {
   "cell_type": "markdown",
   "metadata": {},
   "source": [
    "#### Spectrogram"
   ]
  },
  {
   "cell_type": "code",
   "execution_count": 76,
   "metadata": {},
   "outputs": [],
   "source": [
    "f, t, Sxx = signal.spectrogram(selected_samples, fs_new)\n",
    "plt.pcolormesh(t, f, 10 * np.log10(Sxx), shading='gouraud')\n",
    "plt.ylabel('Frequency [Hz]')\n",
    "plt.xlabel('Time [sec]')\n",
    "plt.show()"
   ]
  },
  {
   "cell_type": "markdown",
   "metadata": {},
   "source": [
    "### Get theta / delta bands"
   ]
  },
  {
   "cell_type": "code",
   "execution_count": 77,
   "metadata": {},
   "outputs": [
    {
     "name": "stderr",
     "output_type": "stream",
     "text": [
      "/Users/patrickhajali/Library/Caches/pypoetry/virtualenvs/beatrice-brain-n1O5vrzQ-py3.9/lib/python3.9/site-packages/matplotlib/cbook.py:1699: ComplexWarning: Casting complex values to real discards the imaginary part\n",
      "  return math.isfinite(val)\n",
      "/Users/patrickhajali/Library/Caches/pypoetry/virtualenvs/beatrice-brain-n1O5vrzQ-py3.9/lib/python3.9/site-packages/matplotlib/cbook.py:1345: ComplexWarning: Casting complex values to real discards the imaginary part\n",
      "  return np.asarray(x, float)\n"
     ]
    }
   ],
   "source": [
    "theta = apply_bandpass_filter(selected_samples,lowcut= 5,highcut= 10, fs=fs_new)\n",
    "theta_as, theta_amp, theta_freq = get_analytic_signal(theta, fs_new)\n",
    "plot_hilbert(theta_as, theta_amp, theta_freq, fs_new)"
   ]
  },
  {
   "cell_type": "code",
   "execution_count": 78,
   "metadata": {},
   "outputs": [
    {
     "ename": "",
     "evalue": "",
     "output_type": "error",
     "traceback": [
      "\u001b[1;31mThe Kernel crashed while executing code in the current cell or a previous cell. \n",
      "\u001b[1;31mPlease review the code in the cell(s) to identify a possible cause of the failure. \n",
      "\u001b[1;31mClick <a href='https://aka.ms/vscodeJupyterKernelCrash'>here</a> for more info. \n",
      "\u001b[1;31mView Jupyter <a href='command:jupyter.viewOutput'>log</a> for further details."
     ]
    }
   ],
   "source": [
    "delta = apply_bandpass_filter(selected_samples,lowcut= 0.5,highcut= 4, fs=fs_new)\n",
    "delta_as, delta_amp, delta_freq = get_analytic_signal(delta, fs_new)\n",
    "plot_hilbert(delta_as, delta_amp, delta_freq, fs_new, bottom=0.5, top = 6);"
   ]
  },
  {
   "cell_type": "markdown",
   "metadata": {},
   "source": [
    "#### Plot theta/delta waveforms"
   ]
  },
  {
   "cell_type": "code",
   "execution_count": 15,
   "metadata": {},
   "outputs": [],
   "source": [
    "plot_waveforms(data,session,samples=preprocessed_samples, other_data= [theta, delta], other_data_labels=['Theta', 'Delta'])"
   ]
  },
  {
   "cell_type": "markdown",
   "metadata": {},
   "source": [
    "### Ratio of theta/delta"
   ]
  },
  {
   "cell_type": "code",
   "execution_count": 72,
   "metadata": {},
   "outputs": [
    {
     "data": {
      "text/plain": [
       "0.02674"
      ]
     },
     "execution_count": 72,
     "metadata": {},
     "output_type": "execute_result"
    }
   ],
   "source": [
    "ratio = theta_amp / delta_amp\n",
    "ratio_threshold = 2\n",
    "\n",
    "theta_cycles = np.where(ratio > ratio_threshold, 1, 0)\n",
    "\n",
    "window_size = int(1 * fs_new)\n",
    "\n",
    "# convolve to identify potential regions\n",
    "convolved = np.convolve(theta_cycles, np.ones(window_size)/window_size, mode='same')\n",
    "\n",
    "theta_cycles_entire = np.zeros_like(theta_cycles)\n",
    "for i in range(len(convolved)):\n",
    "    # if ratio is met at a certain point, mark the entire window as a theta cycle\n",
    "    if convolved[i] >= 1: \n",
    "        start_index = max(i - window_size // 2, 0)\n",
    "        end_index = min(i + window_size // 2, len(theta_cycles))\n",
    "        theta_cycles_entire[start_index:end_index] = 1\n",
    "\n",
    "np.sum(theta_cycles_entire)/len(theta_cycles_entire)"
   ]
  },
  {
   "cell_type": "code",
   "execution_count": null,
   "metadata": {},
   "outputs": [],
   "source": []
  }
 ],
 "metadata": {
  "kernelspec": {
   "display_name": "beatrice-brain-n1O5vrzQ-py3.9",
   "language": "python",
   "name": "python3"
  },
  "language_info": {
   "codemirror_mode": {
    "name": "ipython",
    "version": 3
   },
   "file_extension": ".py",
   "mimetype": "text/x-python",
   "name": "python",
   "nbconvert_exporter": "python",
   "pygments_lexer": "ipython3",
   "version": "3.9.18"
  }
 },
 "nbformat": 4,
 "nbformat_minor": 2
}
